{
  "nbformat": 4,
  "nbformat_minor": 0,
  "metadata": {
    "colab": {
      "provenance": []
    },
    "kernelspec": {
      "name": "python3",
      "display_name": "Python 3"
    },
    "language_info": {
      "name": "python"
    }
  },
  "cells": [
    {
      "cell_type": "code",
      "execution_count": null,
      "metadata": {
        "id": "jvuHuZlasXbZ"
      },
      "outputs": [],
      "source": [
        "import numpy as np\n",
        "import pandas as pd\n",
        "import random"
      ]
    },
    {
      "cell_type": "markdown",
      "source": [
        "## POBLACIÓN"
      ],
      "metadata": {
        "id": "_mCQ273SzX4e"
      }
    },
    {
      "cell_type": "code",
      "source": [
        "random.seed(42) ## Generamos una semilla para que siempre al correr el codigo nos muestre los mismos resultados\n",
        "poblacion = [random.randint(1,100) for x in range(20)] ## Elegimos 20 numeros aleatorios entre 1 y 100\n",
        "poblacion = pd.Series(poblacion) ## Convertimos a pandas series para poder aplicar el metodo sample, para la muestra\n",
        "poblacion.values ##Pasamos a valores para tener el array, con esto trabajaremos"
      ],
      "metadata": {
        "colab": {
          "base_uri": "https://localhost:8080/"
        },
        "id": "2dEb_7pnsuGl",
        "outputId": "1d7a6419-6929-445a-a15a-214be75952a2"
      },
      "execution_count": null,
      "outputs": [
        {
          "output_type": "execute_result",
          "data": {
            "text/plain": [
              "array([82, 15,  4, 95, 36, 32, 29, 18, 95, 14, 87, 95, 70, 12, 76, 55,  5,\n",
              "        4, 12, 28])"
            ]
          },
          "metadata": {},
          "execution_count": 40
        }
      ]
    },
    {
      "cell_type": "code",
      "source": [
        "media = sum(poblacion.values)/len(poblacion.values)\n",
        "varianza = sum([(x - media)**2 for x in poblacion.values])/len(poblacion.values)\n",
        "desv_estandar = np.sqrt(varianza)"
      ],
      "metadata": {
        "id": "7znjqYiAzgTD"
      },
      "execution_count": null,
      "outputs": []
    },
    {
      "cell_type": "code",
      "source": [
        "print(f'La media es = {media}')\n",
        "print(f'La varianza es = {varianza}')\n",
        "print(f'La desviacion estandar es = {desv_estandar}')"
      ],
      "metadata": {
        "colab": {
          "base_uri": "https://localhost:8080/"
        },
        "id": "-fsUhILFzyAd",
        "outputId": "bacbd39e-c825-49ce-c71c-803148b052be"
      },
      "execution_count": null,
      "outputs": [
        {
          "output_type": "stream",
          "name": "stdout",
          "text": [
            "La media es = 43.2\n",
            "La varianza es = 1138.96\n",
            "La desviacion estandar es = 33.74848144731848\n"
          ]
        }
      ]
    },
    {
      "cell_type": "markdown",
      "source": [
        "## MUESTRA"
      ],
      "metadata": {
        "id": "cygNXYCbzbhi"
      }
    },
    {
      "cell_type": "code",
      "source": [
        "muestra = poblacion.sample(frac=0.50,random_state=42) ##Aplicamos la muestra con una fraccion del 50%, ponemos el random_state\n",
        "muestra.values ## Pasamos la muestra en un array, con esto trabajaremos"
      ],
      "metadata": {
        "colab": {
          "base_uri": "https://localhost:8080/"
        },
        "id": "vDtpnL4WsuJI",
        "outputId": "7174227b-2150-4309-f7bb-f64c92ab3546"
      },
      "execution_count": null,
      "outputs": [
        {
          "output_type": "execute_result",
          "data": {
            "text/plain": [
              "array([82,  4, 55, 15, 95, 32, 95, 95, 12,  5])"
            ]
          },
          "metadata": {},
          "execution_count": 41
        }
      ]
    },
    {
      "cell_type": "code",
      "source": [
        "media_2 = sum(muestra.values)/len(muestra.values)\n",
        "varianza_2 = sum([(x - media)**2 for x in muestra.values])/(len(muestra.values)-1)\n",
        "desv_estandar_2 = np.sqrt(varianza_2)"
      ],
      "metadata": {
        "id": "nJlJh0y3suMA"
      },
      "execution_count": null,
      "outputs": []
    },
    {
      "cell_type": "code",
      "source": [
        "print(f'La media es = {media_2}')\n",
        "print(f'La varianza es = {varianza_2}')\n",
        "print(f'La desviacion estandar es = {desv_estandar_2}')"
      ],
      "metadata": {
        "colab": {
          "base_uri": "https://localhost:8080/"
        },
        "id": "oG7q3eZGsuPc",
        "outputId": "d45b1a3a-8c9e-45b2-d348-f7fa179e5516"
      },
      "execution_count": null,
      "outputs": [
        {
          "output_type": "stream",
          "name": "stdout",
          "text": [
            "La media es = 49.0\n",
            "La varianza es = 1620.4888888888888\n",
            "La desviacion estandar es = 40.25529640791245\n"
          ]
        }
      ]
    },
    {
      "cell_type": "code",
      "source": [],
      "metadata": {
        "id": "kFjknzWlsuWV"
      },
      "execution_count": null,
      "outputs": []
    }
  ]
}