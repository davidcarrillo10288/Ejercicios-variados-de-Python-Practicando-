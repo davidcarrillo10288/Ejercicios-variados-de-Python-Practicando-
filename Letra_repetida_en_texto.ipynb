{
  "nbformat": 4,
  "nbformat_minor": 0,
  "metadata": {
    "colab": {
      "provenance": []
    },
    "kernelspec": {
      "name": "python3",
      "display_name": "Python 3"
    },
    "language_info": {
      "name": "python"
    }
  },
  "cells": [
    {
      "cell_type": "code",
      "execution_count": 24,
      "metadata": {
        "colab": {
          "base_uri": "https://localhost:8080/",
          "height": 53
        },
        "id": "FUvGfe8TO6a-",
        "outputId": "8fd458d7-eeb5-47d8-ffce-aea6d8498057"
      },
      "outputs": [
        {
          "name": "stdout",
          "output_type": "stream",
          "text": [
            "Ingresa tu texto a analizar: Estamos practicando\n"
          ]
        },
        {
          "output_type": "execute_result",
          "data": {
            "text/plain": [
              "'Estamos practicando'"
            ],
            "application/vnd.google.colaboratory.intrinsic+json": {
              "type": "string"
            }
          },
          "metadata": {},
          "execution_count": 24
        }
      ],
      "source": [
        "palabra = input(\"Ingresa tu texto a analizar: \")\n",
        "palabra"
      ]
    },
    {
      "cell_type": "code",
      "source": [
        "palabra_new  = palabra.lower().replace(\" \",\"\")\n",
        "palabra_new"
      ],
      "metadata": {
        "colab": {
          "base_uri": "https://localhost:8080/",
          "height": 36
        },
        "id": "5Dey1S8lPL41",
        "outputId": "9b50057f-0f27-49f2-cee7-55c677cfb887"
      },
      "execution_count": 25,
      "outputs": [
        {
          "output_type": "execute_result",
          "data": {
            "text/plain": [
              "'estamospracticando'"
            ],
            "application/vnd.google.colaboratory.intrinsic+json": {
              "type": "string"
            }
          },
          "metadata": {},
          "execution_count": 25
        }
      ]
    },
    {
      "cell_type": "code",
      "source": [
        "lista = []\n",
        "repetida = []\n",
        "for letra in palabra_new:\n",
        "  if letra not in lista:\n",
        "    lista.append(letra)\n",
        "  else:\n",
        "    repetida.append(letra)\n",
        "\n",
        "repetida\n"
      ],
      "metadata": {
        "colab": {
          "base_uri": "https://localhost:8080/"
        },
        "id": "DXi50aWQPL1a",
        "outputId": "87269bc9-a4ce-4fd2-dee7-f51eba5b14c3"
      },
      "execution_count": 26,
      "outputs": [
        {
          "output_type": "execute_result",
          "data": {
            "text/plain": [
              "['s', 'a', 't', 'c', 'a', 'o']"
            ]
          },
          "metadata": {},
          "execution_count": 26
        }
      ]
    },
    {
      "cell_type": "code",
      "source": [
        "lista"
      ],
      "metadata": {
        "colab": {
          "base_uri": "https://localhost:8080/"
        },
        "id": "bfLfPbXwUXR-",
        "outputId": "6c44e555-0232-44e2-ab37-1b2caadb974d"
      },
      "execution_count": 27,
      "outputs": [
        {
          "output_type": "execute_result",
          "data": {
            "text/plain": [
              "['e', 's', 't', 'a', 'm', 'o', 'p', 'r', 'c', 'i', 'n', 'd']"
            ]
          },
          "metadata": {},
          "execution_count": 27
        }
      ]
    },
    {
      "cell_type": "code",
      "source": [
        "if len(repetida) == 0:\n",
        "  print(\"None\")\n",
        "else:\n",
        "  repetida_new = list(set(repetida))\n",
        "  for i in repetida_new:\n",
        "    print(f'La letra repetida es \"{i}\", {repetida.count(i)+1} veces ') "
      ],
      "metadata": {
        "colab": {
          "base_uri": "https://localhost:8080/"
        },
        "id": "G1bsZ6nSPLxT",
        "outputId": "8e0f7600-323f-4ad6-d00d-75e6cf558c88"
      },
      "execution_count": 28,
      "outputs": [
        {
          "output_type": "stream",
          "name": "stdout",
          "text": [
            "La letra repetida es \"a\", 3 veces \n",
            "La letra repetida es \"o\", 2 veces \n",
            "La letra repetida es \"s\", 2 veces \n",
            "La letra repetida es \"t\", 2 veces \n",
            "La letra repetida es \"c\", 2 veces \n"
          ]
        }
      ]
    },
    {
      "cell_type": "code",
      "source": [],
      "metadata": {
        "id": "-R0zvQraPLoy"
      },
      "execution_count": null,
      "outputs": []
    }
  ]
}