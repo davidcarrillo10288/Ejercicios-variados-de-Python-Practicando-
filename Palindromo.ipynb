{
  "nbformat": 4,
  "nbformat_minor": 0,
  "metadata": {
    "colab": {
      "provenance": []
    },
    "kernelspec": {
      "name": "python3",
      "display_name": "Python 3"
    },
    "language_info": {
      "name": "python"
    }
  },
  "cells": [
    {
      "cell_type": "code",
      "execution_count": 14,
      "metadata": {
        "colab": {
          "base_uri": "https://localhost:8080/",
          "height": 53
        },
        "id": "_az4mIJCLxoT",
        "outputId": "bc43d5b2-32db-4bfb-f6de-99bee2bc8cf4"
      },
      "outputs": [
        {
          "name": "stdout",
          "output_type": "stream",
          "text": [
            "Ingresa la palabra a analizar: ana\n"
          ]
        },
        {
          "output_type": "execute_result",
          "data": {
            "text/plain": [
              "'ana'"
            ],
            "application/vnd.google.colaboratory.intrinsic+json": {
              "type": "string"
            }
          },
          "metadata": {},
          "execution_count": 14
        }
      ],
      "source": [
        "palabra = input(\"Ingresa la palabra a analizar: \")\n",
        "palabra2 = palabra.lower().replace(\" \",\"\")\n",
        "palabra2"
      ]
    },
    {
      "cell_type": "code",
      "source": [
        "palabra_new = palabra2[::-1]\n",
        "palabra_new"
      ],
      "metadata": {
        "colab": {
          "base_uri": "https://localhost:8080/",
          "height": 36
        },
        "id": "dh8OzVQGM3gr",
        "outputId": "9f8a1cd4-48ee-49de-a7a0-8a8d566e8fca"
      },
      "execution_count": 15,
      "outputs": [
        {
          "output_type": "execute_result",
          "data": {
            "text/plain": [
              "'ana'"
            ],
            "application/vnd.google.colaboratory.intrinsic+json": {
              "type": "string"
            }
          },
          "metadata": {},
          "execution_count": 15
        }
      ]
    },
    {
      "cell_type": "code",
      "source": [
        "if palabra2 == palabra_new:\n",
        "  print(f'La frase \"{palabra}\", es palindromo')\n",
        "else:\n",
        "  print(f'La frase \"{palabra}\", no es palindromo')\n"
      ],
      "metadata": {
        "colab": {
          "base_uri": "https://localhost:8080/"
        },
        "id": "ok0t-w6YNRM_",
        "outputId": "7362938c-398b-4a3c-b804-7f6e1e05c9f6"
      },
      "execution_count": 16,
      "outputs": [
        {
          "output_type": "stream",
          "name": "stdout",
          "text": [
            "La frase \"ana\", es palindromo\n"
          ]
        }
      ]
    }
  ]
}